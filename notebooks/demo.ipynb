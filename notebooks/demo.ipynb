{
 "cells": [
  {
   "cell_type": "code",
   "execution_count": 1,
   "id": "61c4db44-fa3f-4103-a871-c4bce7ec6375",
   "metadata": {},
   "outputs": [
    {
     "name": "stdout",
     "output_type": "stream",
     "text": [
      "成功連線到 Qdrant！\n",
      "目前集合： collections=[]\n"
     ]
    }
   ],
   "source": [
    "from qdrant_client import QdrantClient, models\n",
    "\n",
    "# 由於兩個服務在同一個 Docker Compose 網路中，可以直接使用服務名稱 'qdrant'\n",
    "# 外部連線則需使用 'localhost'\n",
    "client = QdrantClient(host=\"qdrant\", port=6333)\n",
    "\n",
    "# 測試連線並列出所有集合\n",
    "try:\n",
    "    collections = client.get_collections()\n",
    "    print(\"成功連線到 Qdrant！\")\n",
    "    print(\"目前集合：\", collections)\n",
    "except Exception as e:\n",
    "    print(f\"連線到 Qdrant 失敗，錯誤訊息：{e}\")"
   ]
  },
  {
   "cell_type": "code",
   "execution_count": null,
   "id": "bc471e8f-c8dc-4bb8-9aec-1ab407fed027",
   "metadata": {},
   "outputs": [],
   "source": []
  }
 ],
 "metadata": {
  "kernelspec": {
   "display_name": "Python 3 (ipykernel)",
   "language": "python",
   "name": "python3"
  },
  "language_info": {
   "codemirror_mode": {
    "name": "ipython",
    "version": 3
   },
   "file_extension": ".py",
   "mimetype": "text/x-python",
   "name": "python",
   "nbconvert_exporter": "python",
   "pygments_lexer": "ipython3",
   "version": "3.11.6"
  }
 },
 "nbformat": 4,
 "nbformat_minor": 5
}
