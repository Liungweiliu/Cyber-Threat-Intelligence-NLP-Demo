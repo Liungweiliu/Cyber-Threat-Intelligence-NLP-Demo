{
 "cells": [
  {
   "cell_type": "code",
   "execution_count": 10,
   "id": "24c1a17e-208f-429b-8eeb-c58cce91c5b7",
   "metadata": {},
   "outputs": [],
   "source": [
    "from langchain.chains import RetrievalQA\n",
    "from src.datamodels.qdrant import qdrant_datamodel\n",
    "from src.datamodels.constant import COLLECTION_NAME\n",
    "from src.models.llm import get_llm_model\n",
    "from src.models.huggingface import get_embedding_model\n",
    "from src.ingestion.load_data import download_file, load_json"
   ]
  },
  {
   "cell_type": "markdown",
   "id": "0c019ea2-5471-40ba-88fb-48aa66b1cb8c",
   "metadata": {},
   "source": [
    "## Vector Database Ingestion"
   ]
  },
  {
   "cell_type": "code",
   "execution_count": 2,
   "id": "2702fce9-2e93-44e0-8f94-e3a947a9fa36",
   "metadata": {},
   "outputs": [],
   "source": [
    "def ingest_collection(collection_name: str = COLLECTION_NAME) -> None:\n",
    "    save_path = download_file()\n",
    "    embedding = get_embedding_model()\n",
    "\n",
    "    report = load_json(\n",
    "        file_path=save_path,\n",
    "        jq_schema=\".data.attributes.sigma_analysis_results[]\",\n",
    "        content_key=\"rule_description\",\n",
    "    )\n",
    "    qdrant_datamodel.create_collection(collection_name=collection_name)\n",
    "    vectorstore = qdrant_datamodel.create_vectorstore(\n",
    "        documents=report, embedding=embedding, collection_name=collection_name\n",
    "    )"
   ]
  },
  {
   "cell_type": "markdown",
   "id": "cc477a13-2969-4ece-b885-fca458e818a0",
   "metadata": {},
   "source": [
    "### create vector database client"
   ]
  },
  {
   "cell_type": "code",
   "execution_count": 3,
   "id": "5dc07bb5-7077-4b13-a0e7-0e1313d95bf6",
   "metadata": {},
   "outputs": [],
   "source": [
    "client = qdrant_datamodel.create_client()"
   ]
  },
  {
   "cell_type": "markdown",
   "id": "587108d4-97e4-4f21-a081-239f1a30266e",
   "metadata": {},
   "source": [
    "### get huggingface embedding model"
   ]
  },
  {
   "cell_type": "code",
   "execution_count": 4,
   "id": "0ea966c3-5dff-427c-9e05-11fe0a508507",
   "metadata": {},
   "outputs": [],
   "source": [
    "embedding = get_embedding_model()"
   ]
  },
  {
   "cell_type": "markdown",
   "id": "c6f7e390-090e-40c7-ba48-7170a93bf7cd",
   "metadata": {},
   "source": [
    "### vector database ingestion"
   ]
  },
  {
   "cell_type": "code",
   "execution_count": 5,
   "id": "38ea583b-26d6-4966-922f-5c34e73371f2",
   "metadata": {},
   "outputs": [
    {
     "name": "stdout",
     "output_type": "stream",
     "text": [
      "==================== COLLECTION_NAME='vt_sigma_analysis' exist, connect without create.\n"
     ]
    }
   ],
   "source": [
    "if not client.collection_exists(collection_name=COLLECTION_NAME):\n",
    "    ingest_collection(collection_name=COLLECTION_NAME)\n",
    "print(f\"{'':=>20} {COLLECTION_NAME=} exist, connect without create.\")"
   ]
  },
  {
   "cell_type": "markdown",
   "id": "d1f253ca-57cd-4847-8707-817f2ae08948",
   "metadata": {},
   "source": [
    "### get vectorstore"
   ]
  },
  {
   "cell_type": "code",
   "execution_count": 6,
   "id": "a9b907c3-44fc-4a05-b7b7-bb10ccf585f8",
   "metadata": {},
   "outputs": [],
   "source": [
    "vectorstore = qdrant_datamodel.get_vectorstore(\n",
    "    client=client,\n",
    "    collection_name=COLLECTION_NAME,\n",
    "    embedding=embedding,\n",
    ")"
   ]
  },
  {
   "cell_type": "markdown",
   "id": "a0b3eca3-5fc2-4096-b0ec-74302f7b7967",
   "metadata": {},
   "source": [
    "### init llm model"
   ]
  },
  {
   "cell_type": "code",
   "execution_count": 7,
   "id": "ac752431-172c-4fa3-88c0-0333319c2287",
   "metadata": {},
   "outputs": [],
   "source": [
    "llm = get_llm_model()"
   ]
  },
  {
   "cell_type": "markdown",
   "id": "6c98cdef-9bda-4a9c-93b5-212a6b6fe83f",
   "metadata": {},
   "source": [
    "### init QA model"
   ]
  },
  {
   "cell_type": "code",
   "execution_count": 8,
   "id": "e5767057-d805-48da-8347-59d963361e54",
   "metadata": {},
   "outputs": [],
   "source": [
    "qa = RetrievalQA.from_chain_type(\n",
    "    llm=llm, retriever=vectorstore.as_retriever(), chain_type=\"stuff\"\n",
    ")"
   ]
  },
  {
   "cell_type": "code",
   "execution_count": 9,
   "id": "5a3ab205-16de-4d1b-8ad3-d6c802b5e9ad",
   "metadata": {},
   "outputs": [
    {
     "name": "stdout",
     "output_type": "stream",
     "text": [
      "==================== \n",
      "query='Give me a short and precise summary about the report.' \n",
      "answer='The report outlines indicators of potential malicious activity related to Microsoft Office applications and Windows startup processes. It highlights detection methods for files being created in the Windows startup directory, the spawning of Office applications by svchost processes as a means of creating malicious documents, and the potentially harmful file \"wwlib.dll\" associated with DLL sideloading.'\n",
      "==================== \n",
      "query='Can you tell me about the malicious use of Microsoft Word and COM objects?' \n",
      "answer=\"Malicious actors can exploit Microsoft Word and its COM objects to create and execute harmful Office documents, particularly through the use of macros. When Word generates an instance of a COM object, such as 'Word.Application', it can be leveraged to automatically spawn and execute scripts or executable files. This behavior can enable the creation of malicious Office documents on the fly, allowing attackers to bypass traditional security measures and deliver malware to unsuspecting users.\\n\\nSuch activities often involve dropping scripts in suspicious locations on a system, which could facilitate further exploitation or infect other files. Detection mechanisms are in place to identify unusual patterns, such as the spawning of Office applications from svchost processes or the creation of files with executable or script extensions by Office apps, to help mitigate these threats.\"\n"
     ]
    }
   ],
   "source": [
    "questions = [\n",
    "    \"Give me a short and precise summary about the report.\",\n",
    "    \"Can you tell me about the malicious use of Microsoft Word and COM objects?\",\n",
    "]\n",
    "\n",
    "for question in questions:\n",
    "    result = qa.invoke(question)\n",
    "    query = result.get(\"query\")\n",
    "    answer = result.get(\"result\")\n",
    "    print(\n",
    "        f\"\"\"{'':=>20} \n",
    "{query=} \n",
    "{answer=}\"\"\"\n",
    "        )"
   ]
  },
  {
   "cell_type": "code",
   "execution_count": null,
   "id": "9fcad0c8-09be-485a-8e77-0c711ea9eab7",
   "metadata": {},
   "outputs": [],
   "source": []
  }
 ],
 "metadata": {
  "kernelspec": {
   "display_name": "Python 3 (ipykernel)",
   "language": "python",
   "name": "python3"
  },
  "language_info": {
   "codemirror_mode": {
    "name": "ipython",
    "version": 3
   },
   "file_extension": ".py",
   "mimetype": "text/x-python",
   "name": "python",
   "nbconvert_exporter": "python",
   "pygments_lexer": "ipython3",
   "version": "3.12.11"
  }
 },
 "nbformat": 4,
 "nbformat_minor": 5
}
